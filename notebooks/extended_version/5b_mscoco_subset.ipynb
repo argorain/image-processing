{
 "cells": [
  {
   "cell_type": "markdown",
   "metadata": {},
   "source": [
    "# MSCOCO Subset"
   ]
  },
  {
   "cell_type": "code",
   "execution_count": null,
   "metadata": {},
   "outputs": [],
   "source": [
    "%load_ext autoreload\n",
    "%autoreload 2\n",
    "%matplotlib inline\n",
    "\n",
    "import pandas as pd\n",
    "import numpy as np\n",
    "import seaborn as sns\n",
    "import matplotlib.pyplot as plt\n",
    "from utils.data import Dataset"
   ]
  },
  {
   "cell_type": "markdown",
   "metadata": {},
   "source": [
    "## Data"
   ]
  },
  {
   "cell_type": "code",
   "execution_count": null,
   "metadata": {},
   "outputs": [],
   "source": [
    "class data:\n",
    "    train = Dataset('/data/mscoco/train_data.hdf', data_path_prefix='/data/mscoco/train_imgs/', \n",
    "                    one_hot=False, norm=True, image_shape=[120, 120, 3], reshape=False)\n",
    "    validation = Dataset('/data/mscoco/valid_data.hdf', data_path_prefix='/data/mscoco/valid_imgs/', \n",
    "                         one_hot=False, norm=True, image_shape=[120, 120, 3], reshape=False)\n",
    "\n",
    "class_id2class_name_mapping = {\n",
    "    0: 'cow',\n",
    "    1: 'sheep',\n",
    "    2: 'giraffe',\n",
    "    3: 'horse',\n",
    "    4: 'bird',\n",
    "    5: 'cat',\n",
    "    6: 'dog',\n",
    "    7: 'elephant',\n",
    "    8: 'bear'}"
   ]
  },
  {
   "cell_type": "markdown",
   "metadata": {},
   "source": [
    "## Examples Visualization"
   ]
  },
  {
   "cell_type": "code",
   "execution_count": null,
   "metadata": {},
   "outputs": [],
   "source": [
    "plt.subplots_adjust(wspace=1.5, hspace=2.5)\n",
    "fig = plt.figure(figsize=(20,25))\n",
    "\n",
    "img_batch, label_batch = data.train.next_batch(batch_size=25)\n",
    "\n",
    "for img_id in range(25):\n",
    "    ax = plt.subplot(5, 5, img_id+1)\n",
    "    \n",
    "    img = img_batch[img_id]\n",
    "    class_id = label_batch[img_id]\n",
    "    class_name = class_id2class_name_mapping[class_id]\n",
    "    ax.imshow(img , cmap='gray')\n",
    "    ax.set_title(class_name)\n",
    "    ax.axes.set_axis_off()"
   ]
  },
  {
   "cell_type": "markdown",
   "metadata": {},
   "source": [
    "## Distribution Visualization "
   ]
  },
  {
   "cell_type": "code",
   "execution_count": null,
   "metadata": {},
   "outputs": [],
   "source": [
    "labels = data.validation.labels\n",
    "#images, labels = data.train.next_batch(batch_size=100)\n",
    "class_names = list(map(lambda class_id: class_id2class_name_mapping[class_id], labels))\n",
    "\n",
    "data_frame = pd.DataFrame({'class_names':class_names, 'class_ids': labels})"
   ]
  },
  {
   "cell_type": "code",
   "execution_count": null,
   "metadata": {},
   "outputs": [],
   "source": [
    "fig = plt.figure(figsize=(10, 10))\n",
    "ax = plt.gca()\n",
    "data_frame.hist(column='class_ids', bins=9, grid=False, ax=ax, width=0.5)\n",
    "_ = ax.xaxis.set_ticks(np.arange(0.25, 8, 0.9))\n",
    "_ = ax.xaxis.set_ticklabels(list(class_id2class_name_mapping.values()), rotation=70)"
   ]
  }
 ],
 "metadata": {
  "kernelspec": {
   "display_name": "Python 3",
   "language": "python",
   "name": "python3"
  },
  "language_info": {
   "codemirror_mode": {
    "name": "ipython",
    "version": 3
   },
   "file_extension": ".py",
   "mimetype": "text/x-python",
   "name": "python",
   "nbconvert_exporter": "python",
   "pygments_lexer": "ipython3",
   "version": "3.5.2"
  }
 },
 "nbformat": 4,
 "nbformat_minor": 2
}
