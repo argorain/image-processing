{
 "cells": [
  {
   "cell_type": "markdown",
   "metadata": {},
   "source": [
    "# Flat Image Net - Visualize embedding"
   ]
  },
  {
   "cell_type": "code",
   "execution_count": null,
   "metadata": {},
   "outputs": [],
   "source": [
    "%load_ext autoreload\n",
    "%autoreload 2\n",
    "%matplotlib inline\n",
    "\n",
    "from utils.data import init_model_logging\n",
    "from utils.nn_graph import simple_layer\n",
    "from utils.nn_visualization import variable_summaries, img_summaries\n",
    "import tensorflow as tf\n",
    "from tensorflow.examples.tutorials.mnist import input_data\n",
    "import numpy as np\n",
    "import pandas as pd\n",
    "import matplotlib.pylab as plt"
   ]
  },
  {
   "cell_type": "markdown",
   "metadata": {},
   "source": [
    "## Load data"
   ]
  },
  {
   "cell_type": "code",
   "execution_count": null,
   "metadata": {},
   "outputs": [],
   "source": [
    "data = input_data.read_data_sets('/data/fashion/', one_hot=True)\n",
    "image_shape = (28, 28)\n",
    "class_id2class_name_mapping = {\n",
    "    0: 'T-shirt/top',\n",
    "    1: 'Trouser',\n",
    "    2: 'Pullover',\n",
    "    3: 'Dress',\n",
    "    4: 'Coat',\n",
    "    5: 'Sandal',\n",
    "    6: 'Shirt',\n",
    "    7: 'Sneaker',\n",
    "    8: 'Bag',\n",
    "    9: 'Ankle boot'}"
   ]
  },
  {
   "cell_type": "markdown",
   "metadata": {},
   "source": [
    "## Build Net Graph"
   ]
  },
  {
   "cell_type": "code",
   "execution_count": null,
   "metadata": {},
   "outputs": [],
   "source": [
    "graph = tf.Graph()\n",
    "with graph.as_default():\n",
    "    with tf.name_scope('flat_image_net_inputs'):\n",
    "        images = tf.placeholder(tf.float32, shape=[None, 784], name='images')\n",
    "        labels = tf.placeholder(tf.float32, shape=[None, 10], name='labels')\n",
    "        keep_dropout_prob = tf.placeholder(tf.float32, name='keep_dropout_prob')\n",
    "    \n",
    "    with tf.variable_scope('simple_layer_1'):\n",
    "        raw_prediction = simple_layer(name='layer1', input_data=images, shape=[784, 64], activation='relu')\n",
    "        \n",
    "    with tf.variable_scope('simple_layer_2'):\n",
    "        raw_prediction = simple_layer(name='layer2', input_data=raw_prediction, shape=[64, 10])\n",
    "        raw_prediction = tf.nn.dropout(raw_prediction, keep_dropout_prob)\n",
    "            \n",
    "    with tf.name_scope('prediction'):\n",
    "        prediction = tf.nn.softmax(raw_prediction)\n",
    "    \n",
    "    with tf.name_scope('loss'):\n",
    "        cross_entropy_vector = tf.nn.softmax_cross_entropy_with_logits(labels=labels, logits=prediction)\n",
    "        loss = tf.reduce_mean(cross_entropy_vector)\n",
    "        variable_summaries('loss_summary', cross_entropy_vector)\n",
    "\n",
    "    with tf.name_scope('accuracy'):\n",
    "        correct_prediction = tf.equal(tf.argmax(prediction,1), tf.argmax(labels,1))\n",
    "        correct_prediction = tf.cast(correct_prediction, tf.float32)\n",
    "        accuracy = tf.reduce_mean(correct_prediction)\n",
    "        variable_summaries('accuracy_summary', correct_prediction)       \n",
    "        \n",
    "    with tf.name_scope('training'):\n",
    "        train_step = tf.train.AdamOptimizer(0.001).minimize(loss)\n",
    "\n",
    "    with tf.name_scope(\"embedding_visualization\"):\n",
    "        # We need to assign raw prediction to variable to be able to save it and visualize afterwards\n",
    "        embedding = tf.Variable(tf.zeros([5000, 10]), name='valid_embedding')\n",
    "        embedding_assignment = embedding.assign(raw_prediction)\n",
    "            \n",
    "    initialize_vars = tf.global_variables_initializer()\n",
    "    merge_summaries = tf.summary.merge_all()"
   ]
  },
  {
   "cell_type": "markdown",
   "metadata": {},
   "source": [
    "## Init Model Logging"
   ]
  },
  {
   "cell_type": "code",
   "execution_count": null,
   "metadata": {},
   "outputs": [],
   "source": [
    "base_dir = '/tensorboard_summaries/flat_image_net/'\n",
    "logging_meta = init_model_logging(base_dir, 'experiment_visual_embedding', graph=graph, remove_existing=True)"
   ]
  },
  {
   "cell_type": "markdown",
   "metadata": {},
   "source": [
    "## Data for Embedding Projection"
   ]
  },
  {
   "cell_type": "markdown",
   "metadata": {},
   "source": [
    "### Sprite Img"
   ]
  },
  {
   "cell_type": "code",
   "execution_count": null,
   "metadata": {},
   "outputs": [],
   "source": [
    "from utils.nn_visualization import get_sprite_img\n",
    "sprite_img = get_sprite_img(data.validation.images, image_shape)\n",
    "# Miniatures of clothes which will be visualized\n",
    "sprite_img"
   ]
  },
  {
   "cell_type": "markdown",
   "metadata": {},
   "source": [
    "### Label Class Names"
   ]
  },
  {
   "cell_type": "code",
   "execution_count": null,
   "metadata": {},
   "outputs": [],
   "source": [
    "from utils.nn_visualization import get_label_class_names\n",
    "label_names = get_label_class_names(data.validation.labels, class_id2class_name_mapping)\n",
    "# Labels for miniature images\n",
    "label_names"
   ]
  },
  {
   "cell_type": "markdown",
   "metadata": {},
   "source": [
    "## Add Embedding Projection"
   ]
  },
  {
   "cell_type": "code",
   "execution_count": null,
   "metadata": {},
   "outputs": [],
   "source": [
    "from utils.nn_visualization import init_embedding_projector, init_embedding_data\n",
    "\n",
    "init_embedding_data(logging_meta['valid_writer_dir'], sprite_img, label_names)\n",
    "init_embedding_projector(logging_meta['valid_writer'], embedding, image_shape)"
   ]
  },
  {
   "cell_type": "markdown",
   "metadata": {},
   "source": [
    "## Run Net"
   ]
  },
  {
   "cell_type": "code",
   "execution_count": null,
   "metadata": {},
   "outputs": [],
   "source": [
    "config = tf.ConfigProto(allow_soft_placement=True)\n",
    "config.gpu_options.allow_growth = True\n",
    "model_path = logging_meta['model_path']\n",
    "        \n",
    "with tf.Session(graph=graph, config=config) as session:\n",
    "    session.run(initialize_vars)\n",
    "    for iteration in range(10001):\n",
    "        ##################\n",
    "        # Training Phase #\n",
    "        ##################\n",
    "        \n",
    "        _images, _labels = data.train.next_batch(100)\n",
    "        _train_step = session.run([train_step], feed_dict={images: _images, labels: _labels, keep_dropout_prob: 0.5})\n",
    "        \n",
    "        \n",
    "        #################\n",
    "        # Logging Phase #\n",
    "        #################\n",
    "        \n",
    "        # Train log\n",
    "        _summary, _accuracy, _loss = session.run([merge_summaries, accuracy, loss],\n",
    "                feed_dict={images: _images, labels: _labels, keep_dropout_prob: 1.0})    \n",
    "        logging_meta['train_writer'].add_summary(_summary, iteration)\n",
    "        \n",
    "        # Valid log\n",
    "        if iteration % 100 == 0:\n",
    "            _, _summary, _accuracy, _loss = session.run(\n",
    "                [embedding_assignment, merge_summaries, accuracy, loss], \n",
    "                feed_dict={images: data.validation.images, labels: data.validation.labels, keep_dropout_prob: 1.0})\n",
    "            \n",
    "            print(\"Valid Iteration {}: loss {}, accuracy {}\".format(iteration, _loss, _accuracy))\n",
    "            logging_meta['valid_writer'].add_summary(_summary, iteration)\n",
    "            logging_meta['saver'].save(session, model_path, iteration)\n",
    "            \n",
    "    _prediction, = session.run([prediction], feed_dict={images: data.validation.images, keep_dropout_prob: 1.0})"
   ]
  }
 ],
 "metadata": {
  "kernelspec": {
   "display_name": "Python 3",
   "language": "python",
   "name": "python3"
  },
  "language_info": {
   "codemirror_mode": {
    "name": "ipython",
    "version": 3
   },
   "file_extension": ".py",
   "mimetype": "text/x-python",
   "name": "python",
   "nbconvert_exporter": "python",
   "pygments_lexer": "ipython3",
   "version": "3.5.2"
  }
 },
 "nbformat": 4,
 "nbformat_minor": 2
}
