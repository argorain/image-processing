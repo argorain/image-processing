{
 "cells": [
  {
   "cell_type": "markdown",
   "metadata": {},
   "source": [
    "# Resnet Finetuned on MSCOCO"
   ]
  },
  {
   "cell_type": "code",
   "execution_count": null,
   "metadata": {},
   "outputs": [],
   "source": [
    "%load_ext autoreload\n",
    "%autoreload 2\n",
    "%matplotlib inline\n",
    "\n",
    "from utils.nn_graph import simple_layer, variable_summaries\n",
    "from utils.data import init_model_logging\n",
    "from utils.data import Dataset\n",
    "\n",
    "import numpy as np\n",
    "import tensorflow as tf\n",
    "from tensorflow.contrib.slim.nets import resnet_v1\n",
    "from tensorflow.contrib import slim"
   ]
  },
  {
   "cell_type": "markdown",
   "metadata": {},
   "source": [
    "## Load data"
   ]
  },
  {
   "cell_type": "code",
   "execution_count": null,
   "metadata": {},
   "outputs": [],
   "source": [
    "class data:\n",
    "    train = Dataset('/data/mscoco/train_data.hdf', '/data/mscoco/train_imgs/', one_hot=True, norm=False)\n",
    "    validation = Dataset('/data/mscoco/valid_data.hdf', '/data/mscoco/valid_imgs/', one_hot=True, norm=False)\n",
    "    \n",
    "class_id2class_name_mapping = {\n",
    "    0: 'cow',\n",
    "    1: 'sheep',\n",
    "    2: 'giraffe',\n",
    "    3: 'horse',\n",
    "    4: 'bird',\n",
    "    5: 'cat',\n",
    "    6: 'dog',\n",
    "    7: 'elephant',\n",
    "    8: 'bear'}"
   ]
  },
  {
   "cell_type": "markdown",
   "metadata": {},
   "source": [
    "## Build Resnet Graph"
   ]
  },
  {
   "cell_type": "code",
   "execution_count": null,
   "metadata": {},
   "outputs": [],
   "source": [
    "resnet_model_ckpt = '/data/checkpoints/resnet_v1_50.ckpt'\n",
    "graph = tf.Graph()\n",
    "with graph.as_default():\n",
    "    with tf.variable_scope('resnet_inputs'):\n",
    "        images = tf.placeholder(dtype=tf.float32, shape=[None, 224 * 224 * 3], name='images')\n",
    "        labels = tf.placeholder(tf.float32, shape=(None, 9), name='labels')\n",
    "        is_training = tf.placeholder(tf.bool, shape=(), name='training_flag')\n",
    "\n",
    "    with tf.name_scope('image_reshape'):        \n",
    "        images_reshaped = tf.reshape(images, [-1, 224, 224, 3])        \n",
    "\n",
    "    #########################\n",
    "    # Resnet part of model. #\n",
    "    #########################\n",
    "        \n",
    "    # Run resnet in mode, where it returns embedding insted of prediction itself.\n",
    "    with slim.arg_scope(resnet_v1.resnet_arg_scope()):\n",
    "        resnet_tensors = resnet_v1.resnet_v1_50(\n",
    "            images_reshaped, is_training=is_training, num_classes=None,\n",
    "            global_pool=True, scope='resnet_v1_50')\n",
    "        \n",
    "    # Here we get embedding vector from pretrained model. \n",
    "    # This is point where to join our custom network.\n",
    "    resnet_feature_vector, resnet_endpoints = resnet_tensors\n",
    "\n",
    "    with tf.name_scope('resnet_feature_vector'):\n",
    "        resnet_feature_vector = tf.reshape(resnet_feature_vector, shape=(-1, 2048))\n",
    "\n",
    "    ########################\n",
    "    # Our Custom Netowork. #\n",
    "    ########################\n",
    "        \n",
    "    with tf.variable_scope('layer1'):\n",
    "        prediction_raw = resnet_feature_vector\n",
    "        prediction_raw = simple_layer('layer1', prediction_raw, shape=[2048, 1024], activation='relu')\n",
    "        \n",
    "    with tf.variable_scope('layer2'):\n",
    "        prediction_raw = simple_layer('layer2', prediction_raw, shape=[1024, 9], activation='linear')\n",
    "\n",
    "    with tf.name_scope('prediction'):\n",
    "        prediction = tf.nn.softmax(prediction_raw)\n",
    "\n",
    "    #############################################\n",
    "    # Operations for resnet part initialization #\n",
    "    #############################################\n",
    "            \n",
    "    init_resnet = slim.assign_from_checkpoint_fn(resnet_model_ckpt, slim.get_model_variables('resnet_v1_50'))\n",
    "    initialize_vars = tf.group(\n",
    "        tf.global_variables_initializer(),\n",
    "        tf.local_variables_initializer())\n",
    "    merge_summaries = tf.summary.merge_all()"
   ]
  },
  {
   "cell_type": "markdown",
   "metadata": {},
   "source": [
    "## Init Model Logging"
   ]
  },
  {
   "cell_type": "code",
   "execution_count": null,
   "metadata": {},
   "outputs": [],
   "source": [
    "base_dir = '/tensorboard_summaries/resnet/'\n",
    "exp_name = 'experiment_finetune_two_optimizers'\n",
    "# exp_name = 'experiment_finetune_one_optimizer'\n",
    "\n",
    "logging_meta = init_model_logging(base_dir, exp_name, graph=graph, remove_existing=False)"
   ]
  },
  {
   "cell_type": "markdown",
   "metadata": {},
   "source": [
    "## Load and Run Pretrained Resnet"
   ]
  },
  {
   "cell_type": "code",
   "execution_count": null,
   "metadata": {},
   "outputs": [],
   "source": [
    "config = tf.ConfigProto(allow_soft_placement=True)\n",
    "config.gpu_options.allow_growth = True\n",
    "model_path = logging_meta['model_path']+'-1900'\n",
    "\n",
    "validation_feed_dict = {\n",
    "    images: data.validation.images, \n",
    "    labels: data.validation.labels,\n",
    "    is_training: False}\n",
    "\n",
    "session = tf.Session(graph=graph, config=config)\n",
    "logging_meta['saver'].restore(session, model_path)\n",
    "_prediction, = session.run([prediction], validation_feed_dict)"
   ]
  },
  {
   "cell_type": "code",
   "execution_count": null,
   "metadata": {},
   "outputs": [],
   "source": [
    "session.close()"
   ]
  },
  {
   "cell_type": "markdown",
   "metadata": {},
   "source": [
    "## Results evaluation"
   ]
  },
  {
   "cell_type": "code",
   "execution_count": null,
   "metadata": {},
   "outputs": [],
   "source": [
    "from utils.results_evaluation import get_accuracy\n",
    "from utils.results_evaluation import get_false_positives\n",
    "from utils.results_evaluation import get_info_df\n",
    "from utils.results_evaluation import get_rec_prec\n",
    "from utils.results_evaluation import plot_coocurance_matrix\n",
    "from utils.results_evaluation import plot_examples "
   ]
  },
  {
   "cell_type": "code",
   "execution_count": null,
   "metadata": {},
   "outputs": [],
   "source": [
    "df = get_info_df(data.validation.labels, _prediction, class_id2class_name_mapping, data.validation.images)"
   ]
  },
  {
   "cell_type": "code",
   "execution_count": null,
   "metadata": {},
   "outputs": [],
   "source": [
    "get_accuracy(df, use_top3=False)"
   ]
  },
  {
   "cell_type": "code",
   "execution_count": null,
   "metadata": {},
   "outputs": [],
   "source": [
    "get_rec_prec(df, class_id2class_name_mapping)"
   ]
  },
  {
   "cell_type": "code",
   "execution_count": null,
   "metadata": {},
   "outputs": [],
   "source": [
    "plot_coocurance_matrix(df, use_log=False)"
   ]
  },
  {
   "cell_type": "code",
   "execution_count": null,
   "metadata": {},
   "outputs": [],
   "source": [
    "fp = get_false_positives(df, 'horse')"
   ]
  },
  {
   "cell_type": "code",
   "execution_count": null,
   "metadata": {},
   "outputs": [],
   "source": [
    "plot_examples(fp, [224, 224 , 3])"
   ]
  }
 ],
 "metadata": {
  "kernelspec": {
   "display_name": "Python 3",
   "language": "python",
   "name": "python3"
  },
  "language_info": {
   "codemirror_mode": {
    "name": "ipython",
    "version": 3
   },
   "file_extension": ".py",
   "mimetype": "text/x-python",
   "name": "python",
   "nbconvert_exporter": "python",
   "pygments_lexer": "ipython3",
   "version": "3.5.2"
  }
 },
 "nbformat": 4,
 "nbformat_minor": 2
}
