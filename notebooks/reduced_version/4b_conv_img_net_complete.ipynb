{
 "cells": [
  {
   "cell_type": "markdown",
   "metadata": {},
   "source": [
    "# Convolution Image Net"
   ]
  },
  {
   "cell_type": "code",
   "execution_count": null,
   "metadata": {},
   "outputs": [],
   "source": [
    "%load_ext autoreload\n",
    "%autoreload 2\n",
    "%matplotlib inline\n",
    "\n",
    "from utils.nn_visualization import variable_summaries\n",
    "from utils.data import init_model_logging\n",
    "from utils.nn_graph import simple_layer\n",
    "import tensorflow as tf\n",
    "from tensorflow.examples.tutorials.mnist import input_data\n",
    "import numpy as np\n",
    "import os\n",
    "import pandas as pd\n",
    "import matplotlib.pylab as plt"
   ]
  },
  {
   "cell_type": "markdown",
   "metadata": {},
   "source": [
    "## Load data"
   ]
  },
  {
   "cell_type": "code",
   "execution_count": null,
   "metadata": {},
   "outputs": [],
   "source": [
    "data = input_data.read_data_sets('/data/fashion/', one_hot=True)\n",
    "img_shape = (28, 28)\n",
    "class_id2class_name_mapping = {\n",
    "    0: 'T-shirt/top',\n",
    "    1: 'Trouser',\n",
    "    2: 'Pullover',\n",
    "    3: 'Dress',\n",
    "    4: 'Coat',\n",
    "    5: 'Sandal',\n",
    "    6: 'Shirt',\n",
    "    7: 'Sneaker',\n",
    "    8: 'Bag',\n",
    "    9: 'Ankle boot'}"
   ]
  },
  {
   "cell_type": "markdown",
   "metadata": {},
   "source": [
    "## Custom Layer Functions"
   ]
  },
  {
   "cell_type": "code",
   "execution_count": null,
   "metadata": {},
   "outputs": [],
   "source": [
    "def conv_layer(name, input_data, \n",
    "               conv_filter_shape, pooling_filter_shape, \n",
    "               conv_filter_stride=[1, 1, 1, 1], \n",
    "               pooling_filter_stride=[1, 1, 1, 1],\n",
    "               padding='SAME',\n",
    "               is_training=True):\n",
    "    w_name = 'w_' + name\n",
    "    b_name = 'b_' + name\n",
    "    \n",
    "    # Variables initialization\n",
    "    w = tf.get_variable(w_name, conv_filter_shape, initializer=tf.contrib.layers.variance_scaling_initializer())\n",
    "    bias = tf.get_variable(b_name, initializer=tf.constant_initializer(0), shape=conv_filter_shape[-1])\n",
    "\n",
    "    # Convolution part\n",
    "    conv_layer = tf.nn.conv2d(input_data, w, strides=conv_filter_stride, padding=padding)\n",
    "    # conv_layer = tf.contrib.layers.batch_norm(conv_layer, is_training=is_training)\n",
    "\n",
    "    conv_layer = conv_layer + bias\n",
    "    conv_layer = tf.nn.relu(conv_layer)\n",
    "\n",
    "    # Pooling part\n",
    "    conv_layer = tf.nn.max_pool(conv_layer, \n",
    "                                ksize=pooling_filter_shape, \n",
    "                                strides=pooling_filter_stride, \n",
    "                                padding=padding)\n",
    "    \n",
    "    return conv_layer"
   ]
  },
  {
   "cell_type": "markdown",
   "metadata": {},
   "source": [
    "## Build Conv Net Graph"
   ]
  },
  {
   "cell_type": "code",
   "execution_count": null,
   "metadata": {},
   "outputs": [],
   "source": [
    "graph = tf.Graph()\n",
    "with graph.as_default():\n",
    "    with tf.name_scope('conv_image_net_inputs'):\n",
    "        images = tf.placeholder(tf.float32, shape=[None, 784], name='images')\n",
    "        labels = tf.placeholder(tf.float32, shape=[None, 10], name='labels')\n",
    "        keep_dropout_prob = tf.placeholder(tf.float32, name='keep_dropout_prob')\n",
    "        is_training = tf.placeholder(tf.bool, name='is_training')\n",
    "            \n",
    "    with tf.name_scope('image_reshape'):        \n",
    "        images_reshaped = tf.reshape(images, [-1, 28, 28, 1])\n",
    "\n",
    "    with tf.variable_scope('conv_layer_1'):\n",
    "        conv_layer_1 = conv_layer('cl_1', images_reshaped, \n",
    "               conv_filter_shape=[3, 3, 1, 32], pooling_filter_shape=[1, 2, 2, 1], \n",
    "               conv_filter_stride=[1, 1, 1, 1], pooling_filter_stride=[1, 2, 2, 1],\n",
    "               padding='SAME')  \n",
    "\n",
    "    with tf.variable_scope('conv_layer_2'):\n",
    "        conv_layer_2 = conv_layer('cl_2', conv_layer_1, \n",
    "               conv_filter_shape=[3, 3, 32, 64], pooling_filter_shape=[1, 2, 2, 1], \n",
    "               conv_filter_stride=[1, 1, 1, 1], pooling_filter_stride=[1, 2, 2, 1],\n",
    "               padding='SAME') \n",
    "    \n",
    "    with tf.variable_scope('feed_forward_layer_1'):\n",
    "        ff_layer_1 = tf.reshape(conv_layer_2, [-1, 7*7*64])\n",
    "        ff_layer_1 = simple_layer('ff_1', ff_layer_1, shape=[7*7*64, 10], activation='linear')\n",
    "        raw_prediction = tf.nn.dropout(ff_layer_1, keep_dropout_prob)\n",
    "    \n",
    "    with tf.name_scope('prediction'):\n",
    "        prediction = tf.nn.softmax(raw_prediction)\n",
    "\n",
    "    with tf.name_scope('loss'):\n",
    "        cross_entropy_vector = tf.nn.softmax_cross_entropy_with_logits(labels=labels, logits=raw_prediction)\n",
    "        loss = tf.reduce_mean(cross_entropy_vector)\n",
    "        \n",
    "    with tf.name_scope('training'):\n",
    "        # This dependency is here because of potential batch normalization and need of floating averages update\n",
    "        update_ops = tf.get_collection(tf.GraphKeys.UPDATE_OPS)\n",
    "        with tf.control_dependencies(update_ops):\n",
    "            train_step  = tf.train.AdamOptimizer(1e-3).minimize(loss)\n",
    "\n",
    "    with tf.name_scope('accuracy'):\n",
    "        correct_prediction = tf.equal(tf.argmax(prediction,1), tf.argmax(labels,1))\n",
    "        correct_prediction = tf.cast(correct_prediction, tf.float32)\n",
    "        accuracy = tf.reduce_mean(correct_prediction)\n",
    "    \n",
    "    initialize_vars = tf.global_variables_initializer()"
   ]
  },
  {
   "cell_type": "markdown",
   "metadata": {},
   "source": [
    "## Run Conv Net"
   ]
  },
  {
   "cell_type": "code",
   "execution_count": null,
   "metadata": {
    "scrolled": true
   },
   "outputs": [],
   "source": [
    "validation_feed_dict = {\n",
    "    images: data.validation.images, \n",
    "    labels: data.validation.labels,\n",
    "    keep_dropout_prob: 1., \n",
    "    is_training: False}\n",
    "\n",
    "session = tf.Session(graph=graph)\n",
    "session.run(initialize_vars)\n",
    "\n",
    "for iteration in range(5001):\n",
    "    ##################\n",
    "    # Training Phase #\n",
    "    ##################\n",
    "    \n",
    "    _images, _labels = data.train.next_batch(100)\n",
    "    feed_dict = {images: _images, labels: _labels, keep_dropout_prob: 0.5, is_training: True}\n",
    "    _ = session.run([train_step], feed_dict=feed_dict)\n",
    " \n",
    "\n",
    "    ####################\n",
    "    # Validation Phase #\n",
    "    ####################\n",
    "\n",
    "    if iteration % 100 == 0:\n",
    "        _accuracy, _loss = session.run([accuracy, loss], validation_feed_dict)\n",
    "        print(\"= Valid Iteration {}: loss {}, accuracy {} =\".format(iteration, _loss, _accuracy))\n",
    "\n",
    "_prediction, = session.run([prediction], feed_dict=validation_feed_dict)"
   ]
  },
  {
   "cell_type": "code",
   "execution_count": null,
   "metadata": {},
   "outputs": [],
   "source": [
    "session.close()"
   ]
  },
  {
   "cell_type": "markdown",
   "metadata": {},
   "source": [
    "## Results evaluation"
   ]
  },
  {
   "cell_type": "code",
   "execution_count": null,
   "metadata": {},
   "outputs": [],
   "source": [
    "from utils.results_evaluation import get_info_df\n",
    "from utils.results_evaluation import get_accuracy\n",
    "from utils.results_evaluation import get_false_positives\n",
    "from utils.results_evaluation import get_info_df\n",
    "from utils.results_evaluation import get_rec_prec\n",
    "from utils.results_evaluation import plot_coocurance_matrix\n",
    "from utils.results_evaluation import plot_examples "
   ]
  },
  {
   "cell_type": "code",
   "execution_count": null,
   "metadata": {},
   "outputs": [],
   "source": [
    "df = get_info_df(data.validation.labels, _prediction, class_id2class_name_mapping, data.validation.images)"
   ]
  },
  {
   "cell_type": "code",
   "execution_count": null,
   "metadata": {},
   "outputs": [],
   "source": [
    "get_accuracy(df)"
   ]
  },
  {
   "cell_type": "code",
   "execution_count": null,
   "metadata": {},
   "outputs": [],
   "source": [
    "get_rec_prec(df, class_id2class_name_mapping)"
   ]
  },
  {
   "cell_type": "code",
   "execution_count": null,
   "metadata": {},
   "outputs": [],
   "source": [
    "fp = get_false_positives(df, 'Shirt')"
   ]
  },
  {
   "cell_type": "code",
   "execution_count": null,
   "metadata": {},
   "outputs": [],
   "source": [
    "plot_examples(fp)"
   ]
  },
  {
   "cell_type": "code",
   "execution_count": null,
   "metadata": {},
   "outputs": [],
   "source": [
    "plot_coocurance_matrix(df, use_top3=False, use_log=False)"
   ]
  }
 ],
 "metadata": {
  "kernelspec": {
   "display_name": "Python 3",
   "language": "python",
   "name": "python3"
  },
  "language_info": {
   "codemirror_mode": {
    "name": "ipython",
    "version": 3
   },
   "file_extension": ".py",
   "mimetype": "text/x-python",
   "name": "python",
   "nbconvert_exporter": "python",
   "pygments_lexer": "ipython3",
   "version": "3.5.2"
  }
 },
 "nbformat": 4,
 "nbformat_minor": 2
}
